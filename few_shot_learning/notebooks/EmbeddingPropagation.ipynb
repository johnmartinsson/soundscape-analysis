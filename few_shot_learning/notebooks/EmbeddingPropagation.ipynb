{
 "cells": [
  {
   "cell_type": "code",
   "execution_count": 1,
   "id": "35e5d66c",
   "metadata": {},
   "outputs": [],
   "source": [
    "import numpy as np\n",
    "from scipy.sparse import csgraph\n",
    "import matplotlib.pyplot as plt\n",
    "import torch\n",
    "import torch.nn.functional as F"
   ]
  },
  {
   "cell_type": "code",
   "execution_count": 2,
   "id": "95478652",
   "metadata": {},
   "outputs": [
    {
     "data": {
      "text/plain": [
       "array([[0.        , 0.03341832, 0.17211948, 0.87095617, 0.68485632],\n",
       "       [0.71919553, 0.        , 0.9516198 , 0.15892631, 0.54143709],\n",
       "       [0.94585285, 0.46284874, 0.        , 0.15662223, 0.72561016],\n",
       "       [0.60233722, 0.18879201, 0.6644589 , 0.        , 0.47258751],\n",
       "       [0.35890866, 0.03464987, 0.89160787, 0.57572553, 0.        ]])"
      ]
     },
     "execution_count": 2,
     "metadata": {},
     "output_type": "execute_result"
    }
   ],
   "source": [
    "A = np.random.random((5,5))\n",
    "np.fill_diagonal(A, 0)\n",
    "A"
   ]
  },
  {
   "cell_type": "code",
   "execution_count": 3,
   "id": "7b337e1a",
   "metadata": {},
   "outputs": [
    {
     "data": {
      "text/plain": [
       "array([[ 1.        , -0.02430718, -0.06487937, -0.4048492 , -0.27140477],\n",
       "       [-0.5231146 ,  1.        , -0.68522522, -0.14111918, -0.40988239],\n",
       "       [-0.35653339, -0.33327977,  1.        , -0.07207263, -0.28466979],\n",
       "       [-0.27998624, -0.16763852, -0.30576313,  1.        , -0.2286339 ],\n",
       "       [-0.14223352, -0.02623088, -0.34979365, -0.27853121,  1.        ]])"
      ]
     },
     "execution_count": 3,
     "metadata": {},
     "output_type": "execute_result"
    }
   ],
   "source": [
    "L = csgraph.laplacian(A, normed=True)\n",
    "L"
   ]
  },
  {
   "cell_type": "markdown",
   "id": "ef410347",
   "metadata": {},
   "source": [
    "#### Remark on the Embedding Propagation paper\n",
    "\n",
    "In the paper they calculate the Laplacian by:\n",
    "$$\n",
    "D^{-1/2}AD^{-1/2}.\n",
    "$$\n",
    "\n",
    "Given the wikipedia article and the output of the function above I would say that this is not entirely correct.\n",
    "The function outputs:\n",
    "$$\n",
    "I - D^{-1/2}AD^{-1/2}.\n",
    "$$\n",
    "\n",
    "This then is inline with what the paper call the propagator matrix P which is equal to:\n",
    "$$\n",
    "P = (I - \\alpha D^{-1/2}AD^{-1/2})^{-1}\n",
    "$$\n",
    "\n",
    "I would say that this is slightly different to calculating just Lsym and using that."
   ]
  },
  {
   "cell_type": "code",
   "execution_count": 4,
   "id": "092edf12",
   "metadata": {},
   "outputs": [
    {
     "data": {
      "text/plain": [
       "array([[1.00207194, 0.0035062 , 0.00900838, 0.04147828, 0.0285452 ],\n",
       "       [0.05615476, 1.00293341, 0.07122094, 0.01819555, 0.045076  ],\n",
       "       [0.03829118, 0.03380508, 1.00396731, 0.01013316, 0.03123645],\n",
       "       [0.03054812, 0.01804465, 0.0329749 , 1.00243725, 0.02542652],\n",
       "       [0.01659038, 0.00436573, 0.03635154, 0.02891315, 1.00232509]])"
      ]
     },
     "execution_count": 4,
     "metadata": {},
     "output_type": "execute_result"
    }
   ],
   "source": [
    "#Calculate the propagator matrix.\n",
    "alpha = 0.1\n",
    "P = alpha*L\n",
    "np.fill_diagonal(P, 1)\n",
    "P = np.linalg.inv(P)\n",
    "P"
   ]
  },
  {
   "cell_type": "markdown",
   "id": "454a6a69",
   "metadata": {},
   "source": [
    "### Example"
   ]
  },
  {
   "cell_type": "code",
   "execution_count": 5,
   "id": "4223959a",
   "metadata": {},
   "outputs": [],
   "source": [
    "data_set = []\n",
    "num_centers = 5\n",
    "num_points = 4\n",
    "alpha = 1\n",
    "\n",
    "c_centers = np.random.normal(loc=0, scale=5, size=(num_centers,2))\n",
    "\n",
    "for c in c_centers:\n",
    "    data_set += [c]\n",
    "    a = 0\n",
    "    for i in range(num_points):\n",
    "        r = (np.random.normal(scale=0.3)+alpha)*np.array([np.cos(a), np.sin(a)])\n",
    "        data_set += [c+r]\n",
    "        a += (2*np.pi)/num_points\n",
    "data_set = np.array(data_set)    "
   ]
  },
  {
   "cell_type": "code",
   "execution_count": 6,
   "id": "ea0b30e2",
   "metadata": {},
   "outputs": [
    {
     "data": {
      "image/png": "[encoded data removed]",
      "text/plain": [
       "<Figure size 576x576 with 1 Axes>"
      ]
     },
     "metadata": {
      "needs_background": "light"
     },
     "output_type": "display_data"
    }
   ],
   "source": [
    "fig = plt.figure(figsize=(8,8))\n",
    "colors = []\n",
    "for i, c in enumerate(c_centers):\n",
    "    rgb = (np.random.random(), np.random.random(), np.random.random())\n",
    "    colors += [rgb]\n",
    "    plt.scatter(data_set[i*(num_points+1):(i+1)*(num_points+1)+1,0], data_set[i*(num_points+1):(i+1)*(num_points+1)+1,1], c=[rgb])\n"
   ]
  },
  {
   "cell_type": "code",
   "execution_count": 15,
   "id": "895e36bc",
   "metadata": {},
   "outputs": [],
   "source": [
    "#Create distance matrix\n",
    "d = np.zeros((len(data_set),len(data_set)))\n",
    "for i in range(len(data_set)):\n",
    "    for j in range(len(data_set)):\n",
    "        d[i,j] = np.linalg.norm(data_set[i]-data_set[j])\n",
    "\n",
    "A = np.exp(-d/np.var(d))\n",
    "L = csgraph.laplacian(A, normed=True)\n",
    "p_alpha = 0.5\n",
    "P = p_alpha*L\n",
    "np.fill_diagonal(P, 1)\n",
    "P = np.linalg.inv(P)\n",
    "\n",
    "'''\n",
    "transformed_data_set  = np.zeros((data_set.shape[0], data_set.shape[1]))\n",
    "for i in range(len(transformed_data_set)):\n",
    "    transformed_data_set[i] = np.sum(np.array([P[i,j]*data_set[j,:] for j in range(len(data_set))]), axis=0)\n",
    "'''\n",
    "transformed_data_set = np.matmul(P, data_set)"
   ]
  },
  {
   "cell_type": "code",
   "execution_count": 8,
   "id": "21f8a9d7",
   "metadata": {},
   "outputs": [
    {
     "data": {
      "image/png": "[encoded data removed]",
      "text/plain": [
       "<Figure size 576x576 with 1 Axes>"
      ]
     },
     "metadata": {
      "needs_background": "light"
     },
     "output_type": "display_data"
    }
   ],
   "source": [
    "fig = plt.figure(figsize=(8,8))\n",
    "for i, c in enumerate(c_centers):\n",
    "    plt.scatter(transformed_data_set[i*(num_points+1):(i+1)*(num_points+1)+1,0], transformed_data_set[i*(num_points+1):(i+1)*(num_points+1)+1,1], c=[colors[i]])"
   ]
  },
  {
   "cell_type": "code",
   "execution_count": 9,
   "id": "80baa944",
   "metadata": {},
   "outputs": [],
   "source": [
    "def get_similarity_matrix(x, rbf_scale):\n",
    "    b, c = x.size()\n",
    "    sq_dist = ((x.view(b, 1, c) - x.view(1, b, c))**2).sum(-1) / np.sqrt(c)\n",
    "    mask = sq_dist != 0\n",
    "    sq_dist = sq_dist / sq_dist[mask].std()\n",
    "    weights = torch.exp(-sq_dist * rbf_scale)\n",
    "    mask = torch.eye(weights.size(1), dtype=torch.bool, device=weights.device)\n",
    "    weights = weights * (~mask).float()\n",
    "    return weights"
   ]
  },
  {
   "cell_type": "code",
   "execution_count": 10,
   "id": "bf93e385",
   "metadata": {},
   "outputs": [],
   "source": [
    "def global_consistency(weights, alpha=1, norm_prop=False):\n",
    "    \"\"\"Implements D. Zhou et al. \"Learning with local and global consistency\". (Same as in TPN paper but without bug)\n",
    "    Args:\n",
    "        weights: Tensor of shape (n, n). Expected to be exp( -d^2/s^2 ), where d is the euclidean distance and\n",
    "            s the scale parameter.\n",
    "        labels: Tensor of shape (n, n_classes)\n",
    "        alpha: Scaler, acts as a smoothing factor\n",
    "    Returns:\n",
    "        Tensor of shape (n, n_classes) representing the logits of each classes\n",
    "    \"\"\"\n",
    "    n = weights.shape[1]\n",
    "    identity = torch.eye(n, dtype=weights.dtype)\n",
    "    isqrt_diag = 1. / torch.sqrt(0.0001 + torch.sum(weights, dim=-1))\n",
    "    # checknan(laplacian=isqrt_diag)\n",
    "    S = isqrt_diag[None, :] * weights * isqrt_diag[:, None]\n",
    "    # checknan(normalizedlaplacian=S)\n",
    "    propagator = identity - alpha * S\n",
    "    propagator = torch.inverse(propagator[None, ...])[0]\n",
    "    # checknan(propagator=propagator)\n",
    "    if norm_prop:\n",
    "        propagator = F.normalize(propagator, p=1, dim=-1)\n",
    "    return propagator"
   ]
  },
  {
   "cell_type": "code",
   "execution_count": 11,
   "id": "5a6c7314",
   "metadata": {},
   "outputs": [],
   "source": [
    "r = global_consistency(get_similarity_matrix(torch.tensor(data_set), 1), alpha=0.5)\n",
    "prop = r.numpy()\n",
    "\n",
    "'''\n",
    "t_data_set  = np.zeros((data_set.shape[0], data_set.shape[1]))\n",
    "for i in range(len(t_data_set)):\n",
    "    t_data_set[i] = np.sum(np.array([prop[i,j]*data_set[j,:] for j in range(len(data_set))]), axis=0)\n",
    "'''\n",
    "t_data_set = np.matmul(prop, data_set)"
   ]
  },
  {
   "cell_type": "code",
   "execution_count": 12,
   "id": "a9fbfee6",
   "metadata": {},
   "outputs": [
    {
     "data": {
      "image/png": "[encoded data removed]",
      "text/plain": [
       "<Figure size 576x576 with 1 Axes>"
      ]
     },
     "metadata": {
      "needs_background": "light"
     },
     "output_type": "display_data"
    }
   ],
   "source": [
    "fig = plt.figure(figsize=(8,8))\n",
    "for i, c in enumerate(c_centers):\n",
    "    plt.scatter(t_data_set[i*(num_points+1):(i+1)*(num_points+1)+1,0], t_data_set[i*(num_points+1):(i+1)*(num_points+1)+1,1], c=[colors[i]])"
   ]
  },
  {
   "cell_type": "code",
   "execution_count": 13,
   "id": "93ee3265",
   "metadata": {},
   "outputs": [
    {
     "data": {
      "text/plain": [
       "array([[ 2.1638289 ,  2.34104056],\n",
       "       [ 2.04775139,  2.18196134],\n",
       "       [ 1.88207499,  1.98252117],\n",
       "       [ 2.28474519,  2.52112688],\n",
       "       [ 2.34741279,  2.58414368],\n",
       "       [ 2.78863531,  3.32544635],\n",
       "       [ 2.73549915,  3.20788336],\n",
       "       [ 2.74649026,  3.22276758],\n",
       "       [ 2.80787812,  3.40928959],\n",
       "       [ 2.80733358,  3.3877328 ],\n",
       "       [-1.70803803, -1.87191898],\n",
       "       [-1.84153398, -1.85827195],\n",
       "       [-1.80656327, -2.01828445],\n",
       "       [-1.6028391 , -1.84750189],\n",
       "       [-1.57785649, -1.67113571],\n",
       "       [-2.08787348, -2.27412676],\n",
       "       [-2.12601762, -2.17164629],\n",
       "       [-2.09468716, -2.2721526 ],\n",
       "       [-2.0503805 , -2.31469306],\n",
       "       [-2.04322633, -2.24069023],\n",
       "       [-1.59083668, -1.96816518],\n",
       "       [-1.70842641, -2.103934  ],\n",
       "       [-1.66842106, -1.94086767],\n",
       "       [-1.389852  , -1.72158799],\n",
       "       [-1.56504125, -1.96300995]])"
      ]
     },
     "execution_count": 13,
     "metadata": {},
     "output_type": "execute_result"
    }
   ],
   "source": [
    "transformed_data_set - t_data_set"
   ]
  }
 ],
 "metadata": {
  "kernelspec": {
   "display_name": "Python 3 (ipykernel)",
   "language": "python",
   "name": "python3"
  },
  "language_info": {
   "codemirror_mode": {
    "name": "ipython",
    "version": 3
   },
   "file_extension": ".py",
   "mimetype": "text/x-python",
   "name": "python",
   "nbconvert_exporter": "python",
   "pygments_lexer": "ipython3",
   "version": "3.9.7"
  }
 },
 "nbformat": 4,
 "nbformat_minor": 5
}
