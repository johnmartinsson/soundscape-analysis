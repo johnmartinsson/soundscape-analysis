{
 "cells": [
  {
   "cell_type": "code",
   "execution_count": null,
   "id": "mechanical-hollow",
   "metadata": {},
   "outputs": [],
   "source": [
    "import os\n",
    "import sys\n",
    "module_path = os.path.abspath(os.path.join('..'))\n",
    "if module_path not in sys.path:\n",
    "    sys.path.append(module_path)\n",
    "\n",
    "import pandas as pd\n",
    "import numpy as np\n",
    "import glob\n",
    "import librosa\n",
    "import librosa.display\n",
    "import datasets.dcase_few_shot_bioacoustic as util\n",
    "\n",
    "import matplotlib.pyplot as plt\n",
    "\n",
    "import IPython.display as ipd"
   ]
  },
  {
   "cell_type": "markdown",
   "id": "given-fetish",
   "metadata": {},
   "source": [
    "# README\n",
    "This is a notebook for sound event prediction audiation. Audiation is to hearing what visualization is to vision. This tool is useful if you want to browse through the sound events in a prediciton / annotation .csv file of the type:\n",
    "\n",
    "    filname, start-time, end-time, class\n",
    "    <filename>.wav, <start-second>, <end-second>, <event-class>"
   ]
  },
  {
   "cell_type": "code",
   "execution_count": null,
   "id": "interim-cancer",
   "metadata": {},
   "outputs": [],
   "source": [
    "ls '../data/dcase_few_shot_bioacoustic/val'"
   ]
  },
  {
   "cell_type": "code",
   "execution_count": null,
   "id": "owned-rates",
   "metadata": {},
   "outputs": [],
   "source": [
    "root_path = '../data/dcase_few_shot_bioacoustic/val/'\n",
    "filename = 'BUK1_20181011_001004'\n",
    "\n",
    "annotation_file_path = os.path.join(root_path, filename) + '.csv'\n",
    "audio_file_path = os.path.join(root_path, filename) + '.wav'\n",
    "print(annotation_file_path)\n",
    "print(audio_file_path)"
   ]
  },
  {
   "cell_type": "code",
   "execution_count": null,
   "id": "tutorial-episode",
   "metadata": {},
   "outputs": [],
   "source": [
    "def select_events_with_value(data_frame, value='POS'):\n",
    "    indices = data_frame.index[data_frame['class'] == value].tolist()\n",
    "    return indices\n",
    "\n",
    "def build_matrix_from_selected_rows(data_frame, selected_indices):\n",
    "    matrix_data = np.ones((2, len(selected_indices)))* -1\n",
    "    for n, idx in enumerate(selected_indices):\n",
    "        matrix_data[0, n] = data_frame.loc[idx]['start-time']\n",
    "        matrix_data[1, n] = data_frame.loc[idx]['end-time']\n",
    "    return matrix_data\n",
    "\n",
    "def load_prediction_dataframe(prediction_file_path, annotation_file_path, filename):\n",
    "    prediction_dataframe = pd.read_csv(prediction_file_path)\n",
    "    prediction_dataframe['class'] = 'POS'\n",
    "    prediction_dataframe.columns = ['filename', 'start-time', 'end-time', 'class']\n",
    "    predicted_events_by_audiofile = dict(tuple(prediction_dataframe.groupby('filename')))\n",
    "    prediction_dataframe = predicted_events_by_audiofile[filename + '.wav']\n",
    "    \n",
    "    annotation_dataframe = load_annotation_dataframe(annotation_file_path)\n",
    "    \n",
    "    ref_pos_indices = select_events_with_value(annotation_dataframe, value='POS')\n",
    "    pred_pos_indices = select_events_with_value(prediction_dataframe, value='POS')\n",
    "\n",
    "    ref_1st_round = build_matrix_from_selected_rows(annotation_dataframe, ref_pos_indices)\n",
    "    pred_1st_round = build_matrix_from_selected_rows(prediction_dataframe, pred_pos_indices)\n",
    "\n",
    "    m_pos = util.match_events(ref_1st_round, pred_1st_round, min_iou=0.3)\n",
    "    tp_indices = np.array([x[1] for x in m_pos])\n",
    "    for i, (index, row) in enumerate(prediction_dataframe.iterrows()):\n",
    "        if i in tp_indices:\n",
    "            prediction_dataframe.at[index, 'class'] = 'TP'\n",
    "        else:\n",
    "            prediction_dataframe.at[index, 'class'] = 'FP'\n",
    "    \n",
    "    return prediction_dataframe\n",
    "\n",
    "def load_annotation_dataframe(file_path):\n",
    "    annotation_dataframe = pd.read_csv(file_path)\n",
    "    annotation_dataframe.columns = ['filename', 'start-time', 'end-time', 'class']\n",
    "    \n",
    "    return annotation_dataframe"
   ]
  },
  {
   "cell_type": "code",
   "execution_count": null,
   "id": "welsh-conversation",
   "metadata": {},
   "outputs": [],
   "source": [
    "prediction_file_path = 'predictions/10/PP_VAL_out.csv'\n",
    "prediction_df = load_prediction_dataframe(prediction_file_path, annotation_file_path, filename)\n",
    "prediction_df[:5]"
   ]
  },
  {
   "cell_type": "code",
   "execution_count": null,
   "id": "textile-clock",
   "metadata": {},
   "outputs": [],
   "source": [
    "annotation_df = load_annotation_dataframe(annotation_file_path)\n",
    "annotation_df[:5]"
   ]
  },
  {
   "cell_type": "code",
   "execution_count": null,
   "id": "unknown-doctor",
   "metadata": {},
   "outputs": [],
   "source": [
    "def play_first_audio_events(audio_file_path, annotation_df, event_class, n=5, expand=0):\n",
    "    audio, sample_rate = librosa.load(audio_file_path, None)\n",
    "    print(sample_rate)\n",
    "    event_df = annotation_df[annotation_df['class'] == event_class][:n]\n",
    "    audio_objects = []\n",
    "    for index, row in event_df.iterrows():\n",
    "        start_time = float(row['start-time'])\n",
    "        end_time   = float(row['end-time'])\n",
    "        \n",
    "        start_idx = int((start_time-expand)*sample_rate)\n",
    "        end_idx = int((end_time+expand)*sample_rate)\n",
    "        \n",
    "        if start_idx < 0:\n",
    "            start_idx = 0\n",
    "        if end_idx > len(audio):\n",
    "            end_idx = len(audio)\n",
    "        \n",
    "        audio_segment = audio[start_idx:end_idx]\n",
    "        audio_object = ipd.Audio(audio_segment, rate=sample_rate)\n",
    "        ipd.display(audio_object)\n",
    "        \n",
    "def get_first_audio_events(audio_file_path, annotation_df, event_class, n=5, expand=0):\n",
    "    audio, sample_rate = librosa.load(audio_file_path, None)\n",
    "    print(sample_rate)\n",
    "    event_df = annotation_df[annotation_df['class'] == event_class][:n]\n",
    "    audio_segments = []\n",
    "    for index, row in event_df.iterrows():\n",
    "        start_time = float(row['start-time'])\n",
    "        end_time   = float(row['end-time'])\n",
    "        \n",
    "        start_idx = int((start_time-expand)*sample_rate)\n",
    "        end_idx = int((end_time+expand)*sample_rate)\n",
    "        \n",
    "        if start_idx < 0:\n",
    "            start_idx = 0\n",
    "        if end_idx > len(audio):\n",
    "            end_idx = len(audio)\n",
    "        \n",
    "        audio_segment = audio[start_idx:end_idx]\n",
    "        audio_segments.append(audio_segment)\n",
    "    return audio_segments\n",
    "        \n",
    "def play_random_audio_events(audio_file_path, annotation_df, event_class, n=5, expand=0):\n",
    "    audio, sample_rate = librosa.load(audio_file_path, None)\n",
    "    event_df = annotation_df[annotation_df['class'] == event_class][:n]\n",
    "    audio_objects = []\n",
    "    audio_segments = []\n",
    "    for index, row in event_df.iterrows():\n",
    "        start_time = float(row['start-time'])\n",
    "        end_time   = float(row['end-time'])\n",
    "        \n",
    "        start_idx = int((start_time-expand)*sample_rate)\n",
    "        end_idx = int((end_time+expand)*sample_rate)\n",
    "        \n",
    "        if start_idx < 0:\n",
    "            start_idx = 0\n",
    "        if end_idx > len(audio):\n",
    "            end_idx = len(audio)\n",
    "        \n",
    "        audio_segment = audio[start_idx:end_idx]\n",
    "        audio_segments.append(audio_segment)\n",
    "\n",
    "    if n > len(audio_segments):\n",
    "        n = len(audio_segments)\n",
    "    \n",
    "    random_choice_indices = np.random.choice(np.arange(n), n, replace=False)\n",
    "\n",
    "    for idx in random_choice_indices:\n",
    "        audio_object = ipd.Audio(audio_segments[idx], rate=sample_rate)\n",
    "        ipd.display(audio_object)"
   ]
  },
  {
   "cell_type": "code",
   "execution_count": null,
   "id": "decreased-draft",
   "metadata": {},
   "outputs": [],
   "source": [
    "play_first_audio_events(audio_file_path, annotation_df, event_class='POS', n=10, expand=10)"
   ]
  },
  {
   "cell_type": "code",
   "execution_count": null,
   "id": "according-extension",
   "metadata": {
    "scrolled": false
   },
   "outputs": [],
   "source": [
    "audio_segments = get_first_audio_events(audio_file_path, annotation_df, event_class='POS', n=10, expand=0.2)\n",
    "for audio_segment in audio_segments:\n",
    "    D = librosa.stft(audio_segment)  # STFT of y\n",
    "    D = librosa.feature.melspectrogram(audio_segment, sr=44100)\n",
    "    S_db = librosa.power_to_db(np.abs(D), ref=np.max)\n",
    "    plt.figure()\n",
    "    librosa.display.specshow(S_db)\n",
    "    plt.colorbar()"
   ]
  },
  {
   "cell_type": "code",
   "execution_count": null,
   "id": "amended-optimum",
   "metadata": {},
   "outputs": [],
   "source": [
    "play_random_audio_events(audio_file_path, prediction_df, event_class='TP', n=5, expand=0.2)"
   ]
  },
  {
   "cell_type": "code",
   "execution_count": null,
   "id": "substantial-exploration",
   "metadata": {},
   "outputs": [],
   "source": [
    "play_random_audio_events(audio_file_path, prediction_df, event_class='FP', n=10, expand=0.2)"
   ]
  },
  {
   "cell_type": "code",
   "execution_count": null,
   "id": "hairy-friday",
   "metadata": {},
   "outputs": [],
   "source": [
    "print(audio_file_path)\n",
    "audio, sample_rate = librosa.load(audio_file_path, None)\n",
    "ipd.Audio(audio[:sample_rate*100], rate=sample_rate)"
   ]
  },
  {
   "cell_type": "code",
   "execution_count": null,
   "id": "different-stationery",
   "metadata": {},
   "outputs": [],
   "source": []
  }
 ],
 "metadata": {
  "kernelspec": {
   "display_name": "Python 3",
   "language": "python",
   "name": "python3"
  },
  "language_info": {
   "codemirror_mode": {
    "name": "ipython",
    "version": 3
   },
   "file_extension": ".py",
   "mimetype": "text/x-python",
   "name": "python",
   "nbconvert_exporter": "python",
   "pygments_lexer": "ipython3",
   "version": "3.7.9"
  }
 },
 "nbformat": 4,
 "nbformat_minor": 5
}
