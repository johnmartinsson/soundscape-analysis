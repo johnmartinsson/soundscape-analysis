{
 "cells": [
  {
   "cell_type": "code",
   "execution_count": 13,
   "id": "a64ca872",
   "metadata": {},
   "outputs": [],
   "source": [
    "import torch\n",
    "import torch.nn\n",
    "\n",
    "import sys\n",
    "sys.path.append('..')\n",
    "\n",
    "from models import prototypical as p"
   ]
  },
  {
   "cell_type": "code",
   "execution_count": 16,
   "id": "5ce8d101",
   "metadata": {},
   "outputs": [],
   "source": [
    "c_model_state = '/home/willbo/repos/soundscape-analysis/few_shot_learning/outputs/clf_medianfilter_specaugment/4/best_model.pth'\n",
    "p_model_state = '/home/willbo/repos/soundscape-analysis/few_shot_learning/outputs/4cnn_specaug/best_model.pth'"
   ]
  },
  {
   "cell_type": "code",
   "execution_count": 22,
   "id": "56ca28e1",
   "metadata": {},
   "outputs": [],
   "source": [
    "c_state = torch.load(c_model_state)\n",
    "p_state = torch.load(p_model_state)"
   ]
  },
  {
   "cell_type": "code",
   "execution_count": 23,
   "id": "a6f70cf2",
   "metadata": {},
   "outputs": [
    {
     "data": {
      "text/plain": [
       "odict_keys(['encoder.0.0.weight', 'encoder.0.0.bias', 'encoder.0.1.weight', 'encoder.0.1.bias', 'encoder.0.1.running_mean', 'encoder.0.1.running_var', 'encoder.0.1.num_batches_tracked', 'encoder.1.0.weight', 'encoder.1.0.bias', 'encoder.1.1.weight', 'encoder.1.1.bias', 'encoder.1.1.running_mean', 'encoder.1.1.running_var', 'encoder.1.1.num_batches_tracked', 'encoder.2.0.weight', 'encoder.2.0.bias', 'encoder.2.1.weight', 'encoder.2.1.bias', 'encoder.2.1.running_mean', 'encoder.2.1.running_var', 'encoder.2.1.num_batches_tracked', 'encoder.3.0.weight', 'encoder.3.0.bias', 'encoder.3.1.weight', 'encoder.3.1.bias', 'encoder.3.1.running_mean', 'encoder.3.1.running_var', 'encoder.3.1.num_batches_tracked', 'clf.0.weight', 'clf.0.bias', 'clf.2.weight', 'clf.2.bias'])"
      ]
     },
     "execution_count": 23,
     "metadata": {},
     "output_type": "execute_result"
    }
   ],
   "source": [
    "c_state.keys()"
   ]
  },
  {
   "cell_type": "code",
   "execution_count": 19,
   "id": "5933884a",
   "metadata": {},
   "outputs": [
    {
     "name": "stdout",
     "output_type": "stream",
     "text": [
      "load model\n"
     ]
    },
    {
     "ename": "TypeError",
     "evalue": "string indices must be integers",
     "output_type": "error",
     "traceback": [
      "\u001b[0;31m---------------------------------------------------------------------------\u001b[0m",
      "\u001b[0;31mTypeError\u001b[0m                                 Traceback (most recent call last)",
      "\u001b[0;32m/tmp/ipykernel_3306624/2328422009.py\u001b[0m in \u001b[0;36m<module>\u001b[0;34m\u001b[0m\n\u001b[1;32m      1\u001b[0m \u001b[0mmodel\u001b[0m \u001b[0;34m=\u001b[0m \u001b[0mp\u001b[0m\u001b[0;34m.\u001b[0m\u001b[0mload\u001b[0m\u001b[0;34m(\u001b[0m\u001b[0;32mNone\u001b[0m\u001b[0;34m)\u001b[0m\u001b[0;34m\u001b[0m\u001b[0;34m\u001b[0m\u001b[0m\n\u001b[0;32m----> 2\u001b[0;31m \u001b[0mmodel\u001b[0m\u001b[0;34m.\u001b[0m\u001b[0mload_state_dict\u001b[0m\u001b[0;34m(\u001b[0m\u001b[0mtorch\u001b[0m\u001b[0;34m.\u001b[0m\u001b[0mload\u001b[0m\u001b[0;34m(\u001b[0m\u001b[0mc_model_state\u001b[0m\u001b[0;34m[\u001b[0m\u001b[0;34m'encoder'\u001b[0m\u001b[0;34m]\u001b[0m\u001b[0;34m)\u001b[0m\u001b[0;34m)\u001b[0m\u001b[0;34m\u001b[0m\u001b[0;34m\u001b[0m\u001b[0m\n\u001b[0m",
      "\u001b[0;31mTypeError\u001b[0m: string indices must be integers"
     ]
    }
   ],
   "source": [
    "model = p.load(None)\n",
    "model.load_state_dict(torch.load(c_model_state[]))"
   ]
  }
 ],
 "metadata": {
  "kernelspec": {
   "display_name": "Python 3 (ipykernel)",
   "language": "python",
   "name": "python3"
  },
  "language_info": {
   "codemirror_mode": {
    "name": "ipython",
    "version": 3
   },
   "file_extension": ".py",
   "mimetype": "text/x-python",
   "name": "python",
   "nbconvert_exporter": "python",
   "pygments_lexer": "ipython3",
   "version": "3.9.7"
  }
 },
 "nbformat": 4,
 "nbformat_minor": 5
}
