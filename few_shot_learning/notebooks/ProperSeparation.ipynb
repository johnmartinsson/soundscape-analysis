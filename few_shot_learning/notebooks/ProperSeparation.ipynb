{
 "cells": [
  {
   "cell_type": "code",
   "execution_count": 15,
   "id": "9837d8c0",
   "metadata": {},
   "outputs": [],
   "source": [
    "import numpy as np\n",
    "from glob import glob\n",
    "import os\n",
    "import pandas as pd\n",
    "import librosa"
   ]
  },
  {
   "cell_type": "code",
   "execution_count": null,
   "id": "42f29d2c",
   "metadata": {},
   "outputs": [],
   "source": []
  },
  {
   "cell_type": "code",
   "execution_count": 2,
   "id": "4c32606c",
   "metadata": {},
   "outputs": [],
   "source": [
    "train_path = '/home/willbo/data/dcase/train'\n",
    "val_path = '/home/willbo/data/dcase/val'\n",
    "test_path = '/home/willbo/data/dcase/test'"
   ]
  },
  {
   "cell_type": "code",
   "execution_count": 9,
   "id": "4f62cfe2",
   "metadata": {},
   "outputs": [],
   "source": [
    "train_csv = [file for file in glob(os.path.join(train_path, '*.csv'))]\n",
    "val_csv = [file for file in glob(os.path.join(val_path, '*.csv'))]\n",
    "test_csv = [file for file in glob(os.path.join(test_path, '*.csv'))]\n",
    "all_csv = train_csv + val_csv + test_csv"
   ]
  },
  {
   "cell_type": "code",
   "execution_count": 42,
   "id": "7149a21d",
   "metadata": {},
   "outputs": [],
   "source": [
    "proportions = {}\n",
    "\n",
    "for file in all_csv:\n",
    "    df = pd.read_csv(file, header=0, index_col=False)\n",
    "    df_pos = df[(df == 'POS').any(axis=1)]\n",
    "    tmp = 0\n",
    "    for i in range(len(df_pos)):\n",
    "        tmp += df_pos.iloc[i]['Endtime'] - df_pos.iloc[i]['Starttime']\n",
    "    proportions['/'.join(file.split('/')[-2:])] = tmp/librosa.get_duration(filename=file.replace('csv', 'wav'))"
   ]
  },
  {
   "cell_type": "code",
   "execution_count": 43,
   "id": "d3d89038",
   "metadata": {},
   "outputs": [
    {
     "data": {
      "text/plain": [
       "{'train/y1.csv': 0.03336111111111121,\n",
       " 'train/dcase_MK1.csv': 0.029104294727641027,\n",
       " 'train/e1.csv': 0.021630555555555462,\n",
       " 'train/2015-09-21_06-00-00_unit05.csv': 0.010104166666666513,\n",
       " 'train/2015-09-25_04-00-00_unit10.csv': 0.008187499999998595,\n",
       " 'train/sp4f1_2015_04_24-05_00_00_0002.csv': 0.0617566137337312,\n",
       " 'train/h1.csv': 0.10344444444444542,\n",
       " 'train/2015-09-04_08-04-59_unit03.csv': 0.025437500000001407,\n",
       " 'train/2015-10-14_23-59-59_unit05.csv': 0.004124999999999525,\n",
       " 'train/dcase_MK2.csv': 0.047839334989331385,\n",
       " 'train/2015-09-11_06-00-00_unit07.csv': 0.00760416666666806,\n",
       " 'val/BUK5_20180921_015906a.csv': 0.0012313880137337435,\n",
       " 'val/a1.csv': 0.011844444444444378,\n",
       " 'val/BUK5_20161101_002104a.csv': 0.009341478292663059,\n",
       " 'val/BUK4_20161011_000804.csv': 0.0006345497795082363,\n",
       " 'val/n1.csv': 0.010447777777777547,\n",
       " 'val/BUK4_20171022_004304a.csv': 0.002406841114573186,\n",
       " 'val/BUK1_20181013_023504.csv': 0.0006358795886652798,\n",
       " 'val/BUK1_20181011_001004.csv': 0.003565509227777126,\n",
       " 'test/DC11.csv': 0.17254175168887717,\n",
       " 'test/DCASE2021-ML_129696.csv': 0.17734403930742404,\n",
       " 'test/DCASE2021-ML_131369.csv': 0.3519699085918163,\n",
       " 'test/DC10.csv': 0.3550258222075417,\n",
       " 'test/DC12.csv': 0.30478240159709524,\n",
       " 'test/DC08.csv': 0.45577957518299156,\n",
       " 'test/DCASE2021-ML_131198.csv': 0.05599999999999999,\n",
       " 'test/DCASE2021-ML_197045.csv': 0.2374161963762888,\n",
       " 'test/DCASE2021-ML_126376.csv': 0.6067299998673801,\n",
       " 'test/DCASE2021-ML_191491.csv': 0.08454159619309246,\n",
       " 'test/DC02.csv': 0.336901869909772,\n",
       " 'test/DC06.csv': 0.11924271647275116,\n",
       " 'test/DCASE2021-ML_37045.csv': 0.08523808579811278,\n",
       " 'test/DCASE2021-ML_176488.csv': 0.332279383215177,\n",
       " 'test/DC07.csv': 0.403528463269685,\n",
       " 'test/DCASE2021-ML_40509.csv': 0.32542473816623546,\n",
       " 'test/DC09.csv': 0.08337497855303877,\n",
       " 'test/DCASE2021-ML_268995.csv': 0.20656835883610924,\n",
       " 'test/DCASE2021-ML_190099.csv': 0.13017333773032685,\n",
       " 'test/DC04.csv': 0.18433582486686345,\n",
       " 'test/DCASE2021-ML_89792.csv': 0.07617788933682629,\n",
       " 'test/DCASE2021-ML_72010931.csv': 0.13033999453501152,\n",
       " 'test/DCASE2021-ML_273164.csv': 0.09641608470579797,\n",
       " 'test/ME2.csv': 0.013252403761384353,\n",
       " 'test/ME1.csv': 0.0059536573238408155,\n",
       " 'test/DC05.csv': 0.11926631963844313,\n",
       " 'test/DCASE2021-ML_53963.csv': 0.287002858466536,\n",
       " 'test/DCASE2021-ML_521435.csv': 0.3047948524368052,\n",
       " 'test/DC01.csv': 0.2773551819526297,\n",
       " 'test/DC03.csv': 0.42865483986681446,\n",
       " 'test/DCASE2021-ML_168236.csv': 0.11944896905636825}"
      ]
     },
     "execution_count": 43,
     "metadata": {},
     "output_type": "execute_result"
    }
   ],
   "source": [
    "proportions"
   ]
  }
 ],
 "metadata": {
  "kernelspec": {
   "display_name": "Python 3 (ipykernel)",
   "language": "python",
   "name": "python3"
  },
  "language_info": {
   "codemirror_mode": {
    "name": "ipython",
    "version": 3
   },
   "file_extension": ".py",
   "mimetype": "text/x-python",
   "name": "python",
   "nbconvert_exporter": "python",
   "pygments_lexer": "ipython3",
   "version": "3.9.7"
  }
 },
 "nbformat": 4,
 "nbformat_minor": 5
}
