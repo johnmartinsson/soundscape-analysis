{
 "cells": [
  {
   "cell_type": "code",
   "execution_count": 39,
   "id": "7eeb9594",
   "metadata": {},
   "outputs": [],
   "source": [
    "import numpy as np\n",
    "import matplotlib.pyplot as plt\n",
    "import csv\n",
    "from tqdm import tqdm\n",
    "from collections import defaultdict\n",
    "import math\n",
    "import os\n",
    "import librosa"
   ]
  },
  {
   "cell_type": "code",
   "execution_count": 51,
   "id": "737482f8",
   "metadata": {},
   "outputs": [],
   "source": [
    "val_path = '/home/willbo/data/dcase/val'\n",
    "test_path = '/home/willbo/data/dcase/test'\n",
    "\n",
    "tick_rate = 3000"
   ]
  },
  {
   "cell_type": "code",
   "execution_count": 53,
   "id": "d709f1a8",
   "metadata": {},
   "outputs": [],
   "source": [
    "'''\n",
    "Process model prediction csv into a dict of binary valued arrays with file names as key\n",
    "'''\n",
    "\n",
    "def prediction_to_array(csv_path, set_path):\n",
    "    \n",
    "    increment = 1.0/tick_rate\n",
    "    \n",
    "    pred_dict = defaultdict(list)\n",
    "    pred_dict_array = {}\n",
    "    \n",
    "    predictions_file = open(csv_path, newline='')\n",
    "    predictions_reader = csv.reader(predictions_file, delimiter=',')\n",
    "    predictions = []\n",
    "    for e in predictions_reader:\n",
    "        predictions.append(e)\n",
    "    \n",
    "    for i in range(1,len(predictions)):\n",
    "        pred_dict[predictions[i][0]].append([predictions[i][1], predictions[i][2]])\n",
    "    \n",
    "    print('Processing prediction file: '+csv_path)\n",
    "    for key in tqdm(pred_dict.keys()):\n",
    "\n",
    "        #Go from onset offset predictions to array with binary elements indicating events\n",
    "        index = 0.0\n",
    "        i = 0\n",
    "        prediction_array = np.zeros(math.floor(librosa.get_duration(filename=os.path.join(set_path, key))/increment))\n",
    "        for event in pred_dict[key]:\n",
    "            while index < float(event[0]):\n",
    "                prediction_array[i] = 0\n",
    "                index += increment\n",
    "                i += 1\n",
    "            while index < float(event[1]):\n",
    "                prediction_array[i] = 1\n",
    "                index += increment\n",
    "                i += 1\n",
    "\n",
    "        pred_dict_array[key] = prediction_array\n",
    "        \n",
    "    return pred_dict_array"
   ]
  },
  {
   "cell_type": "code",
   "execution_count": 119,
   "id": "33efe27b",
   "metadata": {},
   "outputs": [
    {
     "name": "stdout",
     "output_type": "stream",
     "text": [
      "Processing prediction file: /home/willbo/repos/soundscape-analysis/few_shot_learning/outputs/resnet_specaugment_spl_seed100/PP_VAL_out.csv\n"
     ]
    },
    {
     "name": "stderr",
     "output_type": "stream",
     "text": [
      "100%|███████████████████████████████████████████████████████████████████████████████████████████| 8/8 [00:14<00:00,  1.79s/it]\n"
     ]
    },
    {
     "data": {
      "text/plain": [
       "dict_keys(['BUK5_20161101_002104a.wav', 'BUK4_20161011_000804.wav', 'a1.wav', 'BUK4_20171022_004304a.wav', 'BUK1_20181013_023504.wav', 'BUK5_20180921_015906a.wav', 'BUK1_20181011_001004.wav', 'n1.wav'])"
      ]
     },
     "execution_count": 119,
     "metadata": {},
     "output_type": "execute_result"
    }
   ],
   "source": [
    "d = prediction_to_array('/home/willbo/repos/soundscape-analysis/few_shot_learning/outputs/resnet_specaugment_spl_seed100/PP_VAL_out.csv',\n",
    "                       val_path)\n",
    "d.keys()"
   ]
  },
  {
   "cell_type": "code",
   "execution_count": 85,
   "id": "0f8e6cbb",
   "metadata": {},
   "outputs": [],
   "source": [
    "def annotation_to_array(csv_path):\n",
    "\n",
    "    increment = 1.0/tick_rate\n",
    "    \n",
    "    annotation_file = open(csv_path, newline='')\n",
    "    annotations_reader = csv.reader(annotation_file, delimiter=',')\n",
    "    annotations = []\n",
    "    for e in annotations_reader:\n",
    "        annotations.append(e)\n",
    "        \n",
    "    annotations_POS = []\n",
    "    annotations_UNK = []\n",
    "    \n",
    "    for e in annotations:\n",
    "        if e[3] == 'POS':\n",
    "            annotations_POS.append([e[1], e[2]])\n",
    "        elif e[3] == 'UNK':\n",
    "            annotations_UNK.append([e[1], e[2]])\n",
    "    \n",
    "    annotations_array_POS = np.zeros(math.floor(librosa.get_duration(filename=csv_path.replace('.csv', '.wav'))/increment))\n",
    "    annotations_array_UNK = np.zeros(math.floor(librosa.get_duration(filename=csv_path.replace('.csv', '.wav'))/increment))\n",
    "    \n",
    "    index = 0.0\n",
    "    i = 0 \n",
    "    \n",
    "    for event in annotations_POS:\n",
    "        while index < float(event[0]):\n",
    "            annotations_array_POS[i] = 0\n",
    "            index += increment\n",
    "            i += 1\n",
    "        while index < float(event[1]):\n",
    "            annotations_array_POS[i] = 1\n",
    "            index += increment\n",
    "            i += 1\n",
    "            \n",
    "    index = 0.0\n",
    "    i = 0\n",
    "    \n",
    "    for event in annotations_UNK:\n",
    "        while index < float(event[0]):\n",
    "            annotations_array_UNK[i] = 0\n",
    "            index += increment\n",
    "            i += 1\n",
    "        while index < float(event[1]):\n",
    "            annotations_array_UNK[i] = 1\n",
    "            index += increment\n",
    "            i += 1\n",
    "                \n",
    "    return annotations_array_POS, annotations_array_UNK"
   ]
  },
  {
   "cell_type": "code",
   "execution_count": 86,
   "id": "3018300d",
   "metadata": {},
   "outputs": [],
   "source": [
    "a_p, a_u = annotation_to_array('/home/willbo/data/dcase/val/a1.csv')"
   ]
  },
  {
   "cell_type": "code",
   "execution_count": 121,
   "id": "d79694d3",
   "metadata": {},
   "outputs": [
    {
     "data": {
      "text/plain": [
       "[<matplotlib.lines.Line2D at 0x7f0ae41e2ca0>]"
      ]
     },
     "execution_count": 121,
     "metadata": {},
     "output_type": "execute_result"
    },
    {
     "data": {
      "image/png": "[encoded data removed]",
      "text/plain": [
       "<Figure size 720x720 with 1 Axes>"
      ]
     },
     "metadata": {
      "needs_background": "light"
     },
     "output_type": "display_data"
    }
   ],
   "source": [
    "'''\n",
    "We need to be able to see times and not tick indexes to make use of this I think.\n",
    "'''\n",
    "\n",
    "fig = plt.figure(figsize=(10,10))\n",
    "plt.plot(a_p[1100000:1300000]*0.5, alpha=0.5, c='blue')\n",
    "plt.plot(a_u[1100000:1300000]*0.5, c='red', alpha=0.5)\n",
    "plt.plot(d['a1.wav'][1100000:1300000], c='black')"
   ]
  },
  {
   "cell_type": "code",
   "execution_count": 118,
   "id": "909e4a9f",
   "metadata": {},
   "outputs": [
    {
     "data": {
      "text/plain": [
       "[<matplotlib.lines.Line2D at 0x7f0acc9c2fa0>]"
      ]
     },
     "execution_count": 118,
     "metadata": {},
     "output_type": "execute_result"
    },
    {
     "data": {
      "image/png": "[encoded data removed]",
      "text/plain": [
       "<Figure size 720x720 with 1 Axes>"
      ]
     },
     "metadata": {
      "needs_background": "light"
     },
     "output_type": "display_data"
    }
   ],
   "source": [
    "fig = plt.figure(figsize=(10,10))\n",
    "plt.plot(a_p[1100000:1300000]*0.5, alpha=0.5, c='blue')\n",
    "plt.plot(a_u[1100000:1300000]*0.5, c='red', alpha=0.2)\n",
    "plt.plot(d['a1.wav'][1100000:1300000], c='black')"
   ]
  },
  {
   "cell_type": "code",
   "execution_count": 48,
   "id": "64d6ffc8",
   "metadata": {},
   "outputs": [
    {
     "data": {
      "text/plain": [
       "[<matplotlib.lines.Line2D at 0x7f0ae6b3b0a0>]"
      ]
     },
     "execution_count": 48,
     "metadata": {},
     "output_type": "execute_result"
    },
    {
     "data": {
      "image/png": "[encoded data removed]",
      "text/plain": [
       "<Figure size 432x288 with 1 Axes>"
      ]
     },
     "metadata": {
      "needs_background": "light"
     },
     "output_type": "display_data"
    }
   ],
   "source": [
    "plt.plot(d[list(d.keys())[2]][200000:250000])"
   ]
  },
  {
   "cell_type": "code",
   "execution_count": 9,
   "id": "6b70ef97",
   "metadata": {},
   "outputs": [],
   "source": [
    "predictions_file = open('postprocessing/clf_TEST_out.csv', newline='')\n",
    "predictions_reader = csv.reader(predictions_file, delimiter=',')\n",
    "predictions = []\n",
    "for e in predictions_reader:\n",
    "    predictions.append(e)"
   ]
  },
  {
   "cell_type": "code",
   "execution_count": 45,
   "id": "9053520a",
   "metadata": {},
   "outputs": [
    {
     "name": "stderr",
     "output_type": "stream",
     "text": [
      "100%|█████████████████████████████████████████████████████████████████████████████████████████| 31/31 [00:08<00:00,  3.58it/s]\n"
     ]
    }
   ],
   "source": [
    "rate = 3000\n",
    "increment = 1.0/rate\n",
    "pred_dict = defaultdict(list)\n",
    "pred_dict_array = {}\n",
    "\n",
    "for i in range(1,len(predictions)):\n",
    "    pred_dict[predictions[i][0]].append([predictions[i][1], predictions[i][2]])\n",
    "    \n",
    "for key in tqdm(pred_dict.keys()):\n",
    "        \n",
    "    #Go from onset offset predictions to array with binary elements indicating events\n",
    "    index = 0.0\n",
    "    i = 0\n",
    "    prediction_array = np.zeros(math.floor(librosa.get_duration(filename=os.path.join(test_path, key))/increment))\n",
    "    for event in pred_dict[key]:\n",
    "        while index < float(event[0]):\n",
    "            prediction_array[i] = 0\n",
    "            index += increment\n",
    "            i += 1\n",
    "        while index < float(event[1]):\n",
    "            prediction_array[i] = 1\n",
    "            index += increment\n",
    "            i += 1\n",
    "    \n",
    "    pred_dict_array[key] = prediction_array"
   ]
  },
  {
   "cell_type": "code",
   "execution_count": 33,
   "id": "5e06d0c0",
   "metadata": {},
   "outputs": [
    {
     "data": {
      "text/plain": [
       "[<matplotlib.lines.Line2D at 0x7f0ae6bf24c0>]"
      ]
     },
     "execution_count": 33,
     "metadata": {},
     "output_type": "execute_result"
    },
    {
     "data": {
      "image/png": "[encoded data removed]",
      "text/plain": [
       "<Figure size 432x288 with 1 Axes>"
      ]
     },
     "metadata": {
      "needs_background": "light"
     },
     "output_type": "display_data"
    }
   ],
   "source": [
    "plt.plot(pred_dict_array[list(pred_dict_array.keys())[2]][200000:250000])"
   ]
  },
  {
   "cell_type": "code",
   "execution_count": 18,
   "id": "6b0a1e64",
   "metadata": {},
   "outputs": [
    {
     "data": {
      "text/plain": [
       "59.48045351473923"
      ]
     },
     "execution_count": 18,
     "metadata": {},
     "output_type": "execute_result"
    }
   ],
   "source": [
    "librosa.get_duration(filename=os.path.join(test_path, list(pred_dict_array.keys())[0]))"
   ]
  }
 ],
 "metadata": {
  "kernelspec": {
   "display_name": "Python 3 (ipykernel)",
   "language": "python",
   "name": "python3"
  },
  "language_info": {
   "codemirror_mode": {
    "name": "ipython",
    "version": 3
   },
   "file_extension": ".py",
   "mimetype": "text/x-python",
   "name": "python",
   "nbconvert_exporter": "python",
   "pygments_lexer": "ipython3",
   "version": "3.9.7"
  }
 },
 "nbformat": 4,
 "nbformat_minor": 5
}
