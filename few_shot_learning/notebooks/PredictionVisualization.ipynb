{
 "cells": [
  {
   "cell_type": "code",
   "execution_count": 13,
   "id": "7eeb9594",
   "metadata": {},
   "outputs": [],
   "source": [
    "import numpy as np\n",
    "import matplotlib.pyplot as plt\n",
    "import csv\n",
    "from tqdm import tqdm\n",
    "from collections import defaultdict"
   ]
  },
  {
   "cell_type": "code",
   "execution_count": 8,
   "id": "6b70ef97",
   "metadata": {},
   "outputs": [],
   "source": [
    "predictions_file = open('postprocessing/clf_TEST_out.csv', newline='')\n",
    "predictions_reader = csv.reader(predictions_file, delimiter=',')\n",
    "predictions = []\n",
    "for e in predictions_reader:\n",
    "    predictions.append(e)"
   ]
  },
  {
   "cell_type": "code",
   "execution_count": 15,
   "id": "9053520a",
   "metadata": {},
   "outputs": [
    {
     "name": "stderr",
     "output_type": "stream",
     "text": [
      "100%|███████████████████████████████████████████| 31/31 [00:55<00:00,  1.80s/it]\n"
     ]
    }
   ],
   "source": [
    "rate = 24000\n",
    "increment = 1.0/rate\n",
    "pred_dict = defaultdict(list)\n",
    "pred_dict_array = {}\n",
    "\n",
    "for i in range(1,len(predictions)):\n",
    "    pred_dict[predictions[i][0]].append([predictions[i][1], predictions[i][2]])\n",
    "    \n",
    "for key in tqdm(pred_dict.keys()):\n",
    "        \n",
    "    #Go from onset offset predictions to array with binary elements indicating events\n",
    "    index = 0.0\n",
    "    prediction_array = []\n",
    "    for event in pred_dict[key]:\n",
    "        while index < float(event[0]):\n",
    "            prediction_array += [0]\n",
    "            index += increment\n",
    "        while index < float(event[1]):\n",
    "            prediction_array += [1]\n",
    "            index += increment\n",
    "    \n",
    "    pred_dict_array[key] = prediction_array"
   ]
  },
  {
   "cell_type": "code",
   "execution_count": 17,
   "id": "5e06d0c0",
   "metadata": {},
   "outputs": [
    {
     "data": {
      "text/plain": [
       "[<matplotlib.lines.Line2D at 0x7ff47c513fa0>]"
      ]
     },
     "execution_count": 17,
     "metadata": {},
     "output_type": "execute_result"
    },
    {
     "data": {
      "image/png": "[encoded data removed]",
      "text/plain": [
       "<Figure size 432x288 with 1 Axes>"
      ]
     },
     "metadata": {
      "needs_background": "light"
     },
     "output_type": "display_data"
    }
   ],
   "source": [
    "plt.plot(pred_dict_array[list(pred_dict_array.keys())[0]][600000:])"
   ]
  }
 ],
 "metadata": {
  "kernelspec": {
   "display_name": "Python 3 (ipykernel)",
   "language": "python",
   "name": "python3"
  },
  "language_info": {
   "codemirror_mode": {
    "name": "ipython",
    "version": 3
   },
   "file_extension": ".py",
   "mimetype": "text/x-python",
   "name": "python",
   "nbconvert_exporter": "python",
   "pygments_lexer": "ipython3",
   "version": "3.9.7"
  }
 },
 "nbformat": 4,
 "nbformat_minor": 5
}
