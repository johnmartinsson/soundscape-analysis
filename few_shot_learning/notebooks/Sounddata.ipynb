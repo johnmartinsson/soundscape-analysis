{
 "cells": [
  {
   "cell_type": "code",
   "execution_count": 2,
   "id": "a0ce8a43",
   "metadata": {},
   "outputs": [],
   "source": [
    "import soundata"
   ]
  },
  {
   "cell_type": "code",
   "execution_count": 4,
   "id": "0e5cfdc1",
   "metadata": {},
   "outputs": [
    {
     "data": {
      "text/plain": [
       "['eigenscape',\n",
       " 'eigenscape_raw',\n",
       " 'esc50',\n",
       " 'fsd50k',\n",
       " 'fsdnoisy18k',\n",
       " 'marco',\n",
       " 'singapura',\n",
       " 'tau2019sse',\n",
       " 'tau2019uas',\n",
       " 'tau2020sse_nigens',\n",
       " 'tau2020uas_mobile',\n",
       " 'tau2021sse_nigens',\n",
       " 'tut2017se',\n",
       " 'urbansed',\n",
       " 'urbansound8k']"
      ]
     },
     "execution_count": 4,
     "metadata": {},
     "output_type": "execute_result"
    }
   ],
   "source": [
    "soundata.list_datasets()"
   ]
  },
  {
   "cell_type": "code",
   "execution_count": 7,
   "id": "2a12e5d7",
   "metadata": {},
   "outputs": [
    {
     "name": "stderr",
     "output_type": "stream",
     "text": [
      "INFO: Note: NumExpr detected 16 cores but \"NUMEXPR_MAX_THREADS\" not set, so enforcing safe limit of 8.\n",
      "INFO: NumExpr defaulting to 8 threads.\n",
      "WARNING: Zip and tar files will be deleted after they are uncompressed. If you download this dataset again, it will overwrite existing files, even if force_overwrite=False\n",
      "INFO: Downloading ['development.audio.1', 'development.audio.2', 'development.doc', 'development.meta', 'evaluation.audio', 'evaluation.doc', 'evaluation.meta'] to /home/willbo/data/tut2017\n",
      "INFO: [development.audio.1] downloading TUT-sound-events-2017-development.audio.1.zip\n",
      "0.99GB [04:22, 4.04MB/s]                                                                                                                                                    \n",
      "INFO: [development.audio.2] downloading TUT-sound-events-2017-development.audio.2.zip\n",
      "203MB [01:20, 2.65MB/s]                                                                                                                                                     \n",
      "INFO: [development.doc] downloading TUT-sound-events-2017-development.doc.zip\n",
      "56.0kB [00:01, 56.4kB/s]                                                                                                                                                    \n",
      "INFO: [development.meta] downloading TUT-sound-events-2017-development.meta.zip\n",
      "144kB [00:01, 118kB/s]                                                                                                                                                      \n",
      "INFO: [evaluation.audio] downloading TUT-sound-events-2017-evaluation.audio.zip\n",
      "370MB [01:30, 4.28MB/s]                                                                                                                                                     \n",
      "INFO: [evaluation.doc] downloading TUT-sound-events-2017-evaluation.doc.zip\n",
      "56.0kB [00:01, 51.3kB/s]                                                                                                                                                    \n",
      "INFO: [evaluation.meta] downloading TUT-sound-events-2017-evaluation.meta.zip\n",
      "16.0kB [00:01, 12.9kB/s]                                                                                                                                                    \n",
      "WARNING: Zip and tar files will be deleted after they are uncompressed. If you download this dataset again, it will overwrite existing files, even if force_overwrite=False\n",
      "INFO: Downloading ['all'] to /home/willbo/data/urbansed\n",
      "INFO: [all] downloading URBAN-SED_v2.0.0.tar.gz\n",
      "6.19GB [16:01, 6.91MB/s]                                                                                                                                                    \n",
      "100%|███████████████████████████████████████████████████████████████████████████████████████████████████████████████████████████████████████| 32/32 [00:02<00:00, 12.41it/s]\n",
      "INFO: Success: the dataset is complete and all files are valid.\n",
      "INFO: --------------------\n",
      "100%|████████████████████████████████████████████████████████████████████████████████████████████████████████████████████████████████| 10000/10000 [00:12<00:00, 807.55it/s]\n",
      "INFO: Success: the dataset is complete and all files are valid.\n",
      "INFO: --------------------\n"
     ]
    }
   ],
   "source": [
    "DOWNLOAD_SETS = False\n",
    "\n",
    "# Datasets with event level annotations\n",
    "# TUT Sound Events 2017\n",
    "# URBAN-SED\n",
    "\n",
    "tut_path = '/home/willbo/data/tut2017'\n",
    "urban_path = '/home/willbo/data/urbansed'\n",
    "\n",
    "if DOWNLOAD_SETS:\n",
    "    \n",
    "    tut_set = soundata.initialize('tut2017se', data_home = tut_path)\n",
    "    urban_set = soundata.initialize('urbansed', data_home = urban_path)\n",
    "    \n",
    "    tut_set.download(cleanup = True)\n",
    "    urban_set.download(cleanup = True)\n",
    "    \n",
    "    tut_val_list = tut_set.validate()\n",
    "    urban_val_list = urban_set.validate()"
   ]
  },
  {
   "cell_type": "code",
   "execution_count": 10,
   "id": "42bda071",
   "metadata": {},
   "outputs": [
    {
     "data": {
      "text/plain": [
       "The tut2017se dataset\n",
       "----------------------------------------------------------------------------------------------------\n",
       "\n",
       "\n",
       "Call the .cite method for bibtex citations.\n",
       "----------------------------------------------------------------------------------------------------\n",
       "\n",
       "\n",
       "TUT Sound events 2017 Clip class\n",
       "\n",
       "    Args:\n",
       "        clip_id (str): id of the clip\n",
       "\n",
       "    Attributes:\n",
       "        audio (np.ndarray, float): path to the audio file\n",
       "        audio_path (str): path to the audio file\n",
       "        annotations_path (str): path to the annotations file\n",
       "        clip_id (str): clip id\n",
       "        events (soundata.annotations.Events): sound events with start time,\n",
       "            end time, label and confidence\n",
       "        non_verified_annotations_path (str): path to the non-verified\n",
       "            annotations file\n",
       "        non_verified_events (soundata.annotations.Events): non-verified sound\n",
       "            events with start time, end time, label and confidence\n",
       "        split (str): subset the clip belongs to (for experiments):\n",
       "            development (fold1, fold2, fold3, fold4) or evaluation\n",
       "    ----------------------------------------------------------------------------------------------------"
      ]
     },
     "execution_count": 10,
     "metadata": {},
     "output_type": "execute_result"
    }
   ],
   "source": [
    "tut_set"
   ]
  },
  {
   "cell_type": "code",
   "execution_count": null,
   "id": "516c201e",
   "metadata": {},
   "outputs": [],
   "source": []
  }
 ],
 "metadata": {
  "kernelspec": {
   "display_name": "Python 3 (ipykernel)",
   "language": "python",
   "name": "python3"
  },
  "language_info": {
   "codemirror_mode": {
    "name": "ipython",
    "version": 3
   },
   "file_extension": ".py",
   "mimetype": "text/x-python",
   "name": "python",
   "nbconvert_exporter": "python",
   "pygments_lexer": "ipython3",
   "version": "3.9.7"
  }
 },
 "nbformat": 4,
 "nbformat_minor": 5
}
