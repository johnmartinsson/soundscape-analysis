{
 "cells": [
  {
   "cell_type": "code",
   "execution_count": 1,
   "id": "d50e798a",
   "metadata": {},
   "outputs": [],
   "source": [
    "import os\n",
    "import sys\n",
    "module_path = os.path.abspath(os.path.join('..'))\n",
    "if module_path not in sys.path:\n",
    "    sys.path.append(module_path)\n",
    "\n",
    "import pandas as pd\n",
    "import numpy as np\n",
    "import glob\n",
    "import librosa\n",
    "import librosa.display\n",
    "import datasets.dcase_few_shot_bioacoustic as util\n",
    "import datasets.data_gen as dg\n",
    "import matplotlib.pyplot as plt\n",
    "import datasets.dcase_few_shot_bioacoustic as util\n",
    "\n",
    "import IPython.display as ipd\n",
    "\n",
    "import h5py\n",
    "\n",
    "import scipy\n",
    "\n",
    "import datasets.data_gen as dg"
   ]
  },
  {
   "cell_type": "code",
   "execution_count": 84,
   "id": "a802e74c",
   "metadata": {},
   "outputs": [
    {
     "data": {
      "text/plain": [
       "True"
      ]
     },
     "execution_count": 84,
     "metadata": {},
     "output_type": "execute_result"
    }
   ],
   "source": [
    "np.random.random() > 0.5"
   ]
  },
  {
   "cell_type": "code",
   "execution_count": 3,
   "id": "d7ae8d82",
   "metadata": {},
   "outputs": [],
   "source": [
    "class ConfigDummy():\n",
    "    \n",
    "    def __init__(self):\n",
    "        self.experiment = Experiment()\n",
    "        \n",
    "class Experiment():\n",
    "    \n",
    "    def __init__(self):\n",
    "        self.datagen = Datagen()\n",
    "        self.path = Path()\n",
    "\n",
    "class Path():\n",
    "    \n",
    "    def __init__(self):\n",
    "        self.train_features = '/home/willbo/data/dcase/hfiles/train'\n",
    "        \n",
    "class Datagen():\n",
    "    \n",
    "    def __init__(self):\n",
    "        self.ltoi = True\n",
    "        self.balance = True\n",
    "        self.normalize = True\n",
    "        self.raw = False\n",
    "\n",
    "config = ConfigDummy()\n",
    "gen = dg.Datagen(config)"
   ]
  },
  {
   "cell_type": "code",
   "execution_count": 3,
   "id": "6eaa745b",
   "metadata": {},
   "outputs": [
    {
     "name": "stdout",
     "output_type": "stream",
     "text": [
      "a1.csv                    BUK4_20161011_000804.csv   BUK5_20180921_015906a.csv\r\n",
      "\u001b[0m\u001b[00;36ma1.wav\u001b[0m                    \u001b[00;36mBUK4_20161011_000804.wav\u001b[0m   \u001b[00;36mBUK5_20180921_015906a.wav\u001b[0m\r\n",
      "BUK1_20181011_001004.csv  BUK4_20171022_004304a.csv  n1.csv\r\n",
      "\u001b[00;36mBUK1_20181011_001004.wav\u001b[0m  \u001b[00;36mBUK4_20171022_004304a.wav\u001b[0m  \u001b[00;36mn1.wav\u001b[0m\r\n",
      "BUK1_20181013_023504.csv  BUK5_20161101_002104a.csv\r\n",
      "\u001b[00;36mBUK1_20181013_023504.wav\u001b[0m  \u001b[00;36mBUK5_20161101_002104a.wav\u001b[0m\r\n"
     ]
    }
   ],
   "source": [
    "ls '/home/willbo/data/dcase/val'"
   ]
  },
  {
   "cell_type": "code",
   "execution_count": 11,
   "id": "76117ed4",
   "metadata": {},
   "outputs": [
    {
     "name": "stdout",
     "output_type": "stream",
     "text": [
      "/home/willbo/data/dcase/val/BUK5_20180921_015906a.csv\n",
      "/home/willbo/data/dcase/val/BUK5_20180921_015906a.wav\n"
     ]
    }
   ],
   "source": [
    "root_path = '/home/willbo/data/dcase/val/'\n",
    "filename = 'BUK5_20180921_015906a'\n",
    "\n",
    "annotation_file_path = os.path.join(root_path, filename) + '.csv'\n",
    "audio_file_path = os.path.join(root_path, filename) + '.wav'\n",
    "print(annotation_file_path)\n",
    "print(audio_file_path)"
   ]
  },
  {
   "cell_type": "code",
   "execution_count": 5,
   "id": "35393688",
   "metadata": {},
   "outputs": [],
   "source": [
    "def select_events_with_value(data_frame, value='POS'):\n",
    "    indices = data_frame.index[data_frame['class'] == value].tolist()\n",
    "    return indices\n",
    "\n",
    "def build_matrix_from_selected_rows(data_frame, selected_indices):\n",
    "    matrix_data = np.ones((2, len(selected_indices)))* -1\n",
    "    for n, idx in enumerate(selected_indices):\n",
    "        matrix_data[0, n] = data_frame.loc[idx]['start-time']\n",
    "        matrix_data[1, n] = data_frame.loc[idx]['end-time']\n",
    "    return matrix_data\n",
    "\n",
    "def load_prediction_dataframe(prediction_file_path, annotation_file_path, filename):\n",
    "    prediction_dataframe = pd.read_csv(prediction_file_path)\n",
    "    prediction_dataframe['class'] = 'POS'\n",
    "    prediction_dataframe.columns = ['filename', 'start-time', 'end-time', 'class']\n",
    "    predicted_events_by_audiofile = dict(tuple(prediction_dataframe.groupby('filename')))\n",
    "    prediction_dataframe = predicted_events_by_audiofile[filename + '.wav']\n",
    "    \n",
    "    annotation_dataframe = load_annotation_dataframe(annotation_file_path)\n",
    "    \n",
    "    ref_pos_indices = select_events_with_value(annotation_dataframe, value='POS')\n",
    "    pred_pos_indices = select_events_with_value(prediction_dataframe, value='POS')\n",
    "\n",
    "    ref_1st_round = build_matrix_from_selected_rows(annotation_dataframe, ref_pos_indices)\n",
    "    pred_1st_round = build_matrix_from_selected_rows(prediction_dataframe, pred_pos_indices)\n",
    "\n",
    "    m_pos = util.match_events(ref_1st_round, pred_1st_round, min_iou=0.3)\n",
    "    tp_indices = np.array([x[1] for x in m_pos])\n",
    "    for i, (index, row) in enumerate(prediction_dataframe.iterrows()):\n",
    "        if i in tp_indices:\n",
    "            prediction_dataframe.at[index, 'class'] = 'TP'\n",
    "        else:\n",
    "            prediction_dataframe.at[index, 'class'] = 'FP'\n",
    "    \n",
    "    return prediction_dataframe\n",
    "\n",
    "def load_annotation_dataframe(file_path):\n",
    "    annotation_dataframe = pd.read_csv(file_path)\n",
    "    annotation_dataframe.columns = ['filename', 'start-time', 'end-time', 'class']\n",
    "    \n",
    "    return annotation_dataframe"
   ]
  },
  {
   "cell_type": "code",
   "execution_count": 6,
   "id": "5a1e7f9c",
   "metadata": {},
   "outputs": [
    {
     "data": {
      "text/html": [
       "<div>\n",
       "<style scoped>\n",
       "    .dataframe tbody tr th:only-of-type {\n",
       "        vertical-align: middle;\n",
       "    }\n",
       "\n",
       "    .dataframe tbody tr th {\n",
       "        vertical-align: top;\n",
       "    }\n",
       "\n",
       "    .dataframe thead th {\n",
       "        text-align: right;\n",
       "    }\n",
       "</style>\n",
       "<table border=\"1\" class=\"dataframe\">\n",
       "  <thead>\n",
       "    <tr style=\"text-align: right;\">\n",
       "      <th></th>\n",
       "      <th>filename</th>\n",
       "      <th>start-time</th>\n",
       "      <th>end-time</th>\n",
       "      <th>class</th>\n",
       "    </tr>\n",
       "  </thead>\n",
       "  <tbody>\n",
       "    <tr>\n",
       "      <th>317</th>\n",
       "      <td>BUK5_20180921_015906a.wav</td>\n",
       "      <td>556.025083</td>\n",
       "      <td>556.210833</td>\n",
       "      <td>TP</td>\n",
       "    </tr>\n",
       "    <tr>\n",
       "      <th>318</th>\n",
       "      <td>BUK5_20180921_015906a.wav</td>\n",
       "      <td>560.436833</td>\n",
       "      <td>560.483333</td>\n",
       "      <td>FP</td>\n",
       "    </tr>\n",
       "    <tr>\n",
       "      <th>319</th>\n",
       "      <td>BUK5_20180921_015906a.wav</td>\n",
       "      <td>579.523667</td>\n",
       "      <td>579.570083</td>\n",
       "      <td>FP</td>\n",
       "    </tr>\n",
       "    <tr>\n",
       "      <th>320</th>\n",
       "      <td>BUK5_20180921_015906a.wav</td>\n",
       "      <td>585.328667</td>\n",
       "      <td>585.421500</td>\n",
       "      <td>TP</td>\n",
       "    </tr>\n",
       "    <tr>\n",
       "      <th>321</th>\n",
       "      <td>BUK5_20180921_015906a.wav</td>\n",
       "      <td>585.978833</td>\n",
       "      <td>586.025250</td>\n",
       "      <td>FP</td>\n",
       "    </tr>\n",
       "  </tbody>\n",
       "</table>\n",
       "</div>"
      ],
      "text/plain": [
       "                      filename  start-time    end-time class\n",
       "317  BUK5_20180921_015906a.wav  556.025083  556.210833    TP\n",
       "318  BUK5_20180921_015906a.wav  560.436833  560.483333    FP\n",
       "319  BUK5_20180921_015906a.wav  579.523667  579.570083    FP\n",
       "320  BUK5_20180921_015906a.wav  585.328667  585.421500    TP\n",
       "321  BUK5_20180921_015906a.wav  585.978833  586.025250    FP"
      ]
     },
     "execution_count": 6,
     "metadata": {},
     "output_type": "execute_result"
    }
   ],
   "source": [
    "prediction_file_path = '/home/willbo/repos/soundscape-analysis/few_shot_learning/outputs/rbigg_specaugemnt_lazytest_l2_650neg_lr5_notile02/PP_BEST_VAL_out.csv'\n",
    "prediction_df = load_prediction_dataframe(prediction_file_path, annotation_file_path, filename)\n",
    "prediction_df[:5]"
   ]
  },
  {
   "cell_type": "code",
   "execution_count": 7,
   "id": "68e4ddfc",
   "metadata": {},
   "outputs": [
    {
     "data": {
      "text/html": [
       "<div>\n",
       "<style scoped>\n",
       "    .dataframe tbody tr th:only-of-type {\n",
       "        vertical-align: middle;\n",
       "    }\n",
       "\n",
       "    .dataframe tbody tr th {\n",
       "        vertical-align: top;\n",
       "    }\n",
       "\n",
       "    .dataframe thead th {\n",
       "        text-align: right;\n",
       "    }\n",
       "</style>\n",
       "<table border=\"1\" class=\"dataframe\">\n",
       "  <thead>\n",
       "    <tr style=\"text-align: right;\">\n",
       "      <th></th>\n",
       "      <th>filename</th>\n",
       "      <th>start-time</th>\n",
       "      <th>end-time</th>\n",
       "      <th>class</th>\n",
       "    </tr>\n",
       "  </thead>\n",
       "  <tbody>\n",
       "    <tr>\n",
       "      <th>0</th>\n",
       "      <td>BUK5_20180921_015906a.wav</td>\n",
       "      <td>59.172129</td>\n",
       "      <td>59.324067</td>\n",
       "      <td>POS</td>\n",
       "    </tr>\n",
       "    <tr>\n",
       "      <th>1</th>\n",
       "      <td>BUK5_20180921_015906a.wav</td>\n",
       "      <td>62.150508</td>\n",
       "      <td>62.359799</td>\n",
       "      <td>POS</td>\n",
       "    </tr>\n",
       "    <tr>\n",
       "      <th>2</th>\n",
       "      <td>BUK5_20180921_015906a.wav</td>\n",
       "      <td>64.583521</td>\n",
       "      <td>64.605658</td>\n",
       "      <td>POS</td>\n",
       "    </tr>\n",
       "    <tr>\n",
       "      <th>3</th>\n",
       "      <td>BUK5_20180921_015906a.wav</td>\n",
       "      <td>133.728187</td>\n",
       "      <td>133.764411</td>\n",
       "      <td>POS</td>\n",
       "    </tr>\n",
       "    <tr>\n",
       "      <th>4</th>\n",
       "      <td>BUK5_20180921_015906a.wav</td>\n",
       "      <td>237.660515</td>\n",
       "      <td>237.753086</td>\n",
       "      <td>POS</td>\n",
       "    </tr>\n",
       "  </tbody>\n",
       "</table>\n",
       "</div>"
      ],
      "text/plain": [
       "                    filename  start-time    end-time class\n",
       "0  BUK5_20180921_015906a.wav   59.172129   59.324067   POS\n",
       "1  BUK5_20180921_015906a.wav   62.150508   62.359799   POS\n",
       "2  BUK5_20180921_015906a.wav   64.583521   64.605658   POS\n",
       "3  BUK5_20180921_015906a.wav  133.728187  133.764411   POS\n",
       "4  BUK5_20180921_015906a.wav  237.660515  237.753086   POS"
      ]
     },
     "execution_count": 7,
     "metadata": {},
     "output_type": "execute_result"
    }
   ],
   "source": [
    "annotation_df = load_annotation_dataframe(annotation_file_path)\n",
    "annotation_df[:5]"
   ]
  },
  {
   "cell_type": "code",
   "execution_count": 8,
   "id": "946db6ba",
   "metadata": {},
   "outputs": [],
   "source": [
    "sr = 22050\n",
    "audio, sr = librosa.load(audio_file_path, sr)"
   ]
  },
  {
   "cell_type": "code",
   "execution_count": 36,
   "id": "811efc95",
   "metadata": {},
   "outputs": [],
   "source": [
    "e_st = annotation_df['start-time'][2]\n",
    "e_et = annotation_df['end-time'][2]\n",
    "if(e_et - e_st < 0.2):\n",
    "    i = (0.2 + e_st - e_et)/2\n",
    "    e_st = e_st - i\n",
    "    e_et = e_et + i\n",
    "\n"
   ]
  },
  {
   "cell_type": "code",
   "execution_count": 37,
   "id": "64c2d3f7",
   "metadata": {},
   "outputs": [],
   "source": [
    "e_st_i = int(e_st * sr)\n",
    "e_et_i = int(e_et * sr)\n",
    "\n",
    "audio_segment = audio[e_st_i:e_et_i]"
   ]
  },
  {
   "cell_type": "markdown",
   "id": "9d5ebcb3",
   "metadata": {},
   "source": [
    "It might very well be weird to do PCEN on this short segments. Should perhaps be done over the whole file.\n",
    "Need to do s -> frame#"
   ]
  },
  {
   "cell_type": "code",
   "execution_count": 11,
   "id": "1189df6a",
   "metadata": {},
   "outputs": [],
   "source": [
    "audio_b = audio * (2**32)"
   ]
  },
  {
   "cell_type": "code",
   "execution_count": 63,
   "id": "30b68f84",
   "metadata": {},
   "outputs": [],
   "source": [
    "D_mel = librosa.feature.melspectrogram(audio_b, sr=22050, n_fft=1024, hop_length=256, n_mels=128, fmax=10000, fmin=6000)\n",
    "D_pcen = librosa.core.pcen(D_mel, sr)"
   ]
  },
  {
   "cell_type": "code",
   "execution_count": 13,
   "id": "a64e9ed4",
   "metadata": {},
   "outputs": [
    {
     "data": {
      "text/plain": [
       "(128, 154695)"
      ]
     },
     "execution_count": 13,
     "metadata": {},
     "output_type": "execute_result"
    }
   ],
   "source": [
    "D_pcen.shape"
   ]
  },
  {
   "cell_type": "code",
   "execution_count": 39,
   "id": "4ace2a11",
   "metadata": {},
   "outputs": [],
   "source": [
    "def time_2_frame(start_time, end_time, fps):\n",
    "    \n",
    "    start_time = start_time\n",
    "    end_time = end_time\n",
    "    \n",
    "    start_time = [int(np.floor(start * fps)) for start in start_time]\n",
    "    end_time = [int(np.floor(end * fps)) for end in end_time]\n",
    "    \n",
    "    return start_time, end_time"
   ]
  },
  {
   "cell_type": "code",
   "execution_count": 47,
   "id": "70dccfe1",
   "metadata": {},
   "outputs": [
    {
     "name": "stdout",
     "output_type": "stream",
     "text": [
      "[5555]\n",
      "[5572]\n"
     ]
    }
   ],
   "source": [
    "s_f, e_f = time_2_frame(np.array([e_st]), np.array([e_et]), sr/256)\n",
    "print(s_f)\n",
    "print(e_f)"
   ]
  },
  {
   "cell_type": "code",
   "execution_count": 16,
   "id": "2eed0e00",
   "metadata": {},
   "outputs": [
    {
     "data": {
      "text/plain": [
       "(17, 128)"
      ]
     },
     "execution_count": 16,
     "metadata": {},
     "output_type": "execute_result"
    }
   ],
   "source": [
    "D_pcen.T[s_f[0]:e_f[0]].shape"
   ]
  },
  {
   "cell_type": "code",
   "execution_count": 64,
   "id": "8940be97",
   "metadata": {},
   "outputs": [
    {
     "data": {
      "text/plain": [
       "<matplotlib.colorbar.Colorbar at 0x7f5002042280>"
      ]
     },
     "execution_count": 64,
     "metadata": {},
     "output_type": "execute_result"
    },
    {
     "data": {
      "image/png": "[encoded data removed]",
      "text/plain": [
       "<Figure size 432x288 with 2 Axes>"
      ]
     },
     "metadata": {
      "needs_background": "light"
     },
     "output_type": "display_data"
    }
   ],
   "source": [
    "plt.figure()\n",
    "librosa.display.specshow((D_pcen.T[s_f[0]:e_f[0]].T))\n",
    "plt.colorbar()"
   ]
  },
  {
   "cell_type": "code",
   "execution_count": 42,
   "id": "a56e725f",
   "metadata": {},
   "outputs": [
    {
     "name": "stdout",
     "output_type": "stream",
     "text": [
      "<KeysViewHDF5 ['feat_neg', 'feat_pos', 'feat_query', 'mean_global', 'start_index_query', 'std_global']>\n"
     ]
    }
   ],
   "source": [
    "h5 = h5py.File('/home/willbo/data/dcase/features/hfiles/val/'+filename+'.h5')\n",
    "print(h5.keys())\n",
    "mean = h5['mean_global'][:][0]\n",
    "std = h5['std_global'][:][0]"
   ]
  },
  {
   "cell_type": "code",
   "execution_count": 12,
   "id": "516e5790",
   "metadata": {},
   "outputs": [
    {
     "ename": "NameError",
     "evalue": "name 'D_pcen' is not defined",
     "output_type": "error",
     "traceback": [
      "\u001b[0;31m---------------------------------------------------------------------------\u001b[0m",
      "\u001b[0;31mNameError\u001b[0m                                 Traceback (most recent call last)",
      "\u001b[0;32m/tmp/ipykernel_2377672/324398091.py\u001b[0m in \u001b[0;36m<module>\u001b[0;34m\u001b[0m\n\u001b[1;32m      1\u001b[0m \u001b[0mplt\u001b[0m\u001b[0;34m.\u001b[0m\u001b[0mfigure\u001b[0m\u001b[0;34m(\u001b[0m\u001b[0;34m)\u001b[0m\u001b[0;34m\u001b[0m\u001b[0;34m\u001b[0m\u001b[0m\n\u001b[0;32m----> 2\u001b[0;31m \u001b[0mlibrosa\u001b[0m\u001b[0;34m.\u001b[0m\u001b[0mdisplay\u001b[0m\u001b[0;34m.\u001b[0m\u001b[0mspecshow\u001b[0m\u001b[0;34m(\u001b[0m\u001b[0;34m(\u001b[0m\u001b[0mD_pcen\u001b[0m\u001b[0;34m.\u001b[0m\u001b[0mT\u001b[0m\u001b[0;34m[\u001b[0m\u001b[0ms_f\u001b[0m\u001b[0;34m[\u001b[0m\u001b[0;36m0\u001b[0m\u001b[0;34m]\u001b[0m\u001b[0;34m:\u001b[0m\u001b[0me_f\u001b[0m\u001b[0;34m[\u001b[0m\u001b[0;36m0\u001b[0m\u001b[0;34m]\u001b[0m\u001b[0;34m]\u001b[0m\u001b[0;34m.\u001b[0m\u001b[0mT\u001b[0m \u001b[0;34m-\u001b[0m \u001b[0mmean\u001b[0m\u001b[0;34m)\u001b[0m\u001b[0;34m/\u001b[0m\u001b[0mstd\u001b[0m\u001b[0;34m)\u001b[0m\u001b[0;34m\u001b[0m\u001b[0;34m\u001b[0m\u001b[0m\n\u001b[0m\u001b[1;32m      3\u001b[0m \u001b[0mplt\u001b[0m\u001b[0;34m.\u001b[0m\u001b[0mcolorbar\u001b[0m\u001b[0;34m(\u001b[0m\u001b[0;34m)\u001b[0m\u001b[0;34m\u001b[0m\u001b[0;34m\u001b[0m\u001b[0m\n",
      "\u001b[0;31mNameError\u001b[0m: name 'D_pcen' is not defined"
     ]
    },
    {
     "data": {
      "text/plain": [
       "<Figure size 432x288 with 0 Axes>"
      ]
     },
     "metadata": {},
     "output_type": "display_data"
    }
   ],
   "source": [
    "plt.figure()\n",
    "librosa.display.specshow((D_pcen.T[s_f[0]:e_f[0]].T - mean)/std)\n",
    "plt.colorbar()"
   ]
  },
  {
   "cell_type": "code",
   "execution_count": 18,
   "id": "9aa2c2ba",
   "metadata": {},
   "outputs": [
    {
     "name": "stdout",
     "output_type": "stream",
     "text": [
      "(128, 17)\n"
     ]
    },
    {
     "data": {
      "text/plain": [
       "<matplotlib.colorbar.Colorbar at 0x7f50028c4190>"
      ]
     },
     "execution_count": 18,
     "metadata": {},
     "output_type": "execute_result"
    },
    {
     "data": {
      "image/png": "[encoded data removed]",
      "text/plain": [
       "<Figure size 432x288 with 2 Axes>"
      ]
     },
     "metadata": {
      "needs_background": "light"
     },
     "output_type": "display_data"
    }
   ],
   "source": [
    "n_l_s = s_f[0] - (e_f[0] - s_f[0])\n",
    "n_l_s_2 = s_f[0] - (e_f[0] - s_f[0])*2\n",
    "n_l = D_pcen.T[n_l_s:s_f[0]].T\n",
    "n_l_2 = D_pcen.T[n_l_s_2:n_l_s].T\n",
    "n_r_e = e_f[0] + (e_f[0] - s_f[0])\n",
    "n_r_e_2 = e_f[0] + (e_f[0] - s_f[0])*2\n",
    "n_r = D_pcen.T[e_f[0]:n_r_e].T\n",
    "n_e_2 = D_pcen.T[n_r_e:n_r_e_2].T\n",
    "print(n_l.shape)\n",
    "n_l = scipy.ndimage.median_filter(n_l, (6,3))\n",
    "n_e = scipy.ndimage.median_filter(n_r, (6,3))\n",
    "n_l_2 = scipy.ndimage.median_filter(n_l_2, (6,3))\n",
    "n_e_2 = scipy.ndimage.median_filter(n_e_2, (6,3))\n",
    "\n",
    "n = np.mean(n_l + n_e + n_l_2 + n_e_2)\n",
    "\n",
    "plt.figure()\n",
    "librosa.display.specshow(gen.feature_scale(D_pcen.T[s_f[0]:e_f[0]].T - n))\n",
    "plt.colorbar()"
   ]
  },
  {
   "cell_type": "code",
   "execution_count": 19,
   "id": "4bc626ec",
   "metadata": {},
   "outputs": [
    {
     "name": "stdout",
     "output_type": "stream",
     "text": [
      "(128, 18)\n"
     ]
    },
    {
     "data": {
      "text/plain": [
       "<matplotlib.colorbar.Colorbar at 0x7f500285a910>"
      ]
     },
     "execution_count": 19,
     "metadata": {},
     "output_type": "execute_result"
    },
    {
     "data": {
      "image/png": "[encoded data removed]",
      "text/plain": [
       "<Figure size 432x288 with 2 Axes>"
      ]
     },
     "metadata": {
      "needs_background": "light"
     },
     "output_type": "display_data"
    }
   ],
   "source": [
    "#audio_segment = audio_segment * (2**32)\n",
    "#D = librosa.stft(audio_segment)  # STFT of y\n",
    "D = librosa.feature.melspectrogram(audio_segment, sr=22050, n_fft=1024, hop_length=256, n_mels=128, fmax=11025)\n",
    "#D_pcen = librosa.core.pcen(D, 22050)\n",
    "#D_pcen_n = gen.feature_scale(D_pcen)\n",
    "\n",
    "#D_filt = scipy.ndimage.median_filter(D_pcen, (3,2))\n",
    "\n",
    "#S_db = librosa.power_to_db(np.abs(D), ref=np.max)\n",
    "#print(S_db.shape)\n",
    "print(D.shape)\n",
    "plt.figure()\n",
    "librosa.display.specshow(D)\n",
    "#librosa.display.specshow(D_pcen)\n",
    "#librosa.display.specshow(D_pcen_n)\n",
    "plt.colorbar()"
   ]
  },
  {
   "cell_type": "code",
   "execution_count": 5,
   "id": "11a42451",
   "metadata": {},
   "outputs": [],
   "source": [
    "X, Y = gen.generate_train()"
   ]
  },
  {
   "cell_type": "code",
   "execution_count": 13,
   "id": "25b5a547",
   "metadata": {},
   "outputs": [
    {
     "data": {
      "text/plain": [
       "array([[[0., 0., 0., ..., 1., 1., 1.],\n",
       "        [0., 0., 0., ..., 1., 1., 1.],\n",
       "        [0., 0., 0., ..., 1., 1., 1.],\n",
       "        ...,\n",
       "        [0., 0., 0., ..., 1., 1., 1.],\n",
       "        [0., 0., 0., ..., 1., 1., 1.],\n",
       "        [0., 0., 0., ..., 1., 1., 1.]],\n",
       "\n",
       "       [[0., 0., 0., ..., 1., 1., 1.],\n",
       "        [0., 0., 0., ..., 1., 1., 1.],\n",
       "        [0., 0., 0., ..., 1., 1., 1.],\n",
       "        ...,\n",
       "        [0., 0., 0., ..., 1., 1., 1.],\n",
       "        [0., 0., 0., ..., 1., 1., 1.],\n",
       "        [0., 0., 0., ..., 1., 1., 1.]],\n",
       "\n",
       "       [[0., 0., 0., ..., 1., 1., 1.],\n",
       "        [0., 0., 0., ..., 1., 1., 1.],\n",
       "        [0., 0., 0., ..., 1., 1., 1.],\n",
       "        ...,\n",
       "        [0., 0., 0., ..., 1., 1., 1.],\n",
       "        [0., 0., 0., ..., 1., 1., 1.],\n",
       "        [0., 0., 0., ..., 1., 1., 1.]],\n",
       "\n",
       "       ...,\n",
       "\n",
       "       [[0., 0., 0., ..., 1., 1., 1.],\n",
       "        [0., 0., 0., ..., 1., 1., 1.],\n",
       "        [0., 0., 0., ..., 1., 1., 1.],\n",
       "        ...,\n",
       "        [0., 0., 0., ..., 1., 1., 1.],\n",
       "        [0., 0., 0., ..., 1., 1., 1.],\n",
       "        [0., 0., 0., ..., 1., 1., 1.]],\n",
       "\n",
       "       [[0., 0., 0., ..., 1., 1., 1.],\n",
       "        [0., 0., 0., ..., 1., 1., 1.],\n",
       "        [0., 0., 0., ..., 1., 1., 1.],\n",
       "        ...,\n",
       "        [0., 0., 0., ..., 1., 1., 1.],\n",
       "        [0., 0., 0., ..., 1., 1., 1.],\n",
       "        [0., 0., 0., ..., 1., 1., 1.]],\n",
       "\n",
       "       [[0., 0., 0., ..., 1., 1., 1.],\n",
       "        [0., 0., 0., ..., 1., 1., 1.],\n",
       "        [0., 0., 0., ..., 1., 1., 1.],\n",
       "        ...,\n",
       "        [0., 0., 0., ..., 1., 1., 1.],\n",
       "        [0., 0., 0., ..., 1., 1., 1.],\n",
       "        [0., 0., 0., ..., 1., 1., 1.]]])"
      ]
     },
     "execution_count": 13,
     "metadata": {},
     "output_type": "execute_result"
    }
   ],
   "source": [
    "mask = np.zeros((100,17,128))\n",
    "mask[:,:,100:] = 1\n",
    "mask"
   ]
  },
  {
   "cell_type": "code",
   "execution_count": 16,
   "id": "e205f34c",
   "metadata": {},
   "outputs": [
    {
     "ename": "ValueError",
     "evalue": "operands could not be broadcast together with shapes (100,17,128) (5,15) ",
     "output_type": "error",
     "traceback": [
      "\u001b[0;31m---------------------------------------------------------------------------\u001b[0m",
      "\u001b[0;31mValueError\u001b[0m                                Traceback (most recent call last)",
      "\u001b[0;32m/tmp/ipykernel_2377672/1999215619.py\u001b[0m in \u001b[0;36m<module>\u001b[0;34m\u001b[0m\n\u001b[0;32m----> 1\u001b[0;31m \u001b[0mX\u001b[0m\u001b[0;34m[\u001b[0m\u001b[0;36m200\u001b[0m\u001b[0;34m:\u001b[0m\u001b[0;36m300\u001b[0m\u001b[0;34m]\u001b[0m \u001b[0;34m=\u001b[0m \u001b[0mX\u001b[0m\u001b[0;34m[\u001b[0m\u001b[0;36m200\u001b[0m\u001b[0;34m:\u001b[0m\u001b[0;36m300\u001b[0m\u001b[0;34m]\u001b[0m \u001b[0;34m*\u001b[0m \u001b[0mmask\u001b[0m\u001b[0;34m\u001b[0m\u001b[0;34m\u001b[0m\u001b[0m\n\u001b[0m",
      "\u001b[0;31mValueError\u001b[0m: operands could not be broadcast together with shapes (100,17,128) (5,15) "
     ]
    }
   ],
   "source": [
    "X[200:300] = X[200:300] * mask"
   ]
  },
  {
   "cell_type": "code",
   "execution_count": 18,
   "id": "3ed04b85",
   "metadata": {},
   "outputs": [
    {
     "data": {
      "text/plain": [
       "<matplotlib.colorbar.Colorbar at 0x7f77a548cfd0>"
      ]
     },
     "execution_count": 18,
     "metadata": {},
     "output_type": "execute_result"
    },
    {
     "data": {
      "image/png": "[encoded data removed]",
      "text/plain": [
       "<Figure size 432x288 with 2 Axes>"
      ]
     },
     "metadata": {
      "needs_background": "light"
     },
     "output_type": "display_data"
    }
   ],
   "source": [
    "plt.figure()\n",
    "\n",
    "librosa.display.specshow(gen.feature_scale(X[17010].T))\n",
    "plt.colorbar()"
   ]
  },
  {
   "cell_type": "code",
   "execution_count": 17,
   "id": "3fa04de4",
   "metadata": {},
   "outputs": [],
   "source": [
    "\n",
    "import h5py as hf"
   ]
  },
  {
   "cell_type": "code",
   "execution_count": 18,
   "id": "f2246959",
   "metadata": {},
   "outputs": [],
   "source": [
    "gen_val = dg.TestDatagen(hf.File('/home/willbo/data/dcase/features/hfiles/val/BUK5_20180921_015906a.h5', 'r'), config)\n",
    "\n"
   ]
  },
  {
   "cell_type": "code",
   "execution_count": 19,
   "id": "80641eff",
   "metadata": {},
   "outputs": [],
   "source": [
    "X_pos, X_neg, X_query = gen_val.generate_eval()"
   ]
  },
  {
   "cell_type": "code",
   "execution_count": 54,
   "id": "c092a945",
   "metadata": {},
   "outputs": [
    {
     "data": {
      "text/plain": [
       "7"
      ]
     },
     "execution_count": 54,
     "metadata": {},
     "output_type": "execute_result"
    }
   ],
   "source": [
    "len(X_pos)"
   ]
  },
  {
   "cell_type": "code",
   "execution_count": 20,
   "id": "fb1b65c1",
   "metadata": {},
   "outputs": [],
   "source": [
    "mask = np.zeros((17,128))\n",
    "mask[:,110:120] = 1"
   ]
  },
  {
   "cell_type": "code",
   "execution_count": 6,
   "id": "c8b3309d",
   "metadata": {},
   "outputs": [
    {
     "ename": "NameError",
     "evalue": "name 'X_pos' is not defined",
     "output_type": "error",
     "traceback": [
      "\u001b[0;31m---------------------------------------------------------------------------\u001b[0m",
      "\u001b[0;31mNameError\u001b[0m                                 Traceback (most recent call last)",
      "\u001b[0;32m/tmp/ipykernel_2404836/2936638147.py\u001b[0m in \u001b[0;36m<module>\u001b[0;34m\u001b[0m\n\u001b[1;32m      1\u001b[0m \u001b[0mplt\u001b[0m\u001b[0;34m.\u001b[0m\u001b[0mfigure\u001b[0m\u001b[0;34m(\u001b[0m\u001b[0;34m)\u001b[0m\u001b[0;34m\u001b[0m\u001b[0;34m\u001b[0m\u001b[0m\n\u001b[0;32m----> 2\u001b[0;31m \u001b[0mlibrosa\u001b[0m\u001b[0;34m.\u001b[0m\u001b[0mdisplay\u001b[0m\u001b[0;34m.\u001b[0m\u001b[0mspecshow\u001b[0m\u001b[0;34m(\u001b[0m\u001b[0;34m(\u001b[0m\u001b[0mX_pos\u001b[0m\u001b[0;34m[\u001b[0m\u001b[0;36m0\u001b[0m\u001b[0;34m]\u001b[0m\u001b[0;34m)\u001b[0m\u001b[0;34m.\u001b[0m\u001b[0mT\u001b[0m\u001b[0;34m)\u001b[0m\u001b[0;34m\u001b[0m\u001b[0;34m\u001b[0m\u001b[0m\n\u001b[0m\u001b[1;32m      3\u001b[0m \u001b[0mplt\u001b[0m\u001b[0;34m.\u001b[0m\u001b[0mcolorbar\u001b[0m\u001b[0;34m(\u001b[0m\u001b[0;34m)\u001b[0m\u001b[0;34m\u001b[0m\u001b[0;34m\u001b[0m\u001b[0m\n",
      "\u001b[0;31mNameError\u001b[0m: name 'X_pos' is not defined"
     ]
    },
    {
     "data": {
      "text/plain": [
       "<Figure size 432x288 with 0 Axes>"
      ]
     },
     "metadata": {},
     "output_type": "display_data"
    }
   ],
   "source": [
    "plt.figure()\n",
    "librosa.display.specshow((X_pos[0]).T)\n",
    "plt.colorbar()"
   ]
  },
  {
   "cell_type": "code",
   "execution_count": 26,
   "id": "7ff20843",
   "metadata": {},
   "outputs": [
    {
     "data": {
      "text/plain": [
       "array([[1., 1., 1., 1., 1.],\n",
       "       [1., 1., 1., 1., 1.],\n",
       "       [1., 1., 1., 1., 1.],\n",
       "       [1., 1., 1., 1., 1.],\n",
       "       [1., 1., 1., 1., 1.],\n",
       "       [1., 1., 1., 1., 1.],\n",
       "       [1., 1., 1., 1., 1.],\n",
       "       [1., 1., 1., 1., 1.],\n",
       "       [1., 1., 1., 1., 1.],\n",
       "       [1., 1., 1., 1., 1.],\n",
       "       [0., 0., 0., 0., 0.],\n",
       "       [0., 0., 0., 0., 0.],\n",
       "       [0., 0., 0., 0., 0.],\n",
       "       [0., 0., 0., 0., 0.],\n",
       "       [0., 0., 0., 0., 0.]])"
      ]
     },
     "execution_count": 26,
     "metadata": {},
     "output_type": "execute_result"
    }
   ],
   "source": [
    "import numpy as np\n",
    "\n",
    "mask = np.zeros((5, 15))\n",
    "mask[:,10:15] = 1\n",
    "\n",
    "mask.T\n",
    "\n",
    "mask_c = np.ones((5,15))\n",
    "mask_c[:,10:15] = 0\n",
    "\n",
    "mask_c.T"
   ]
  }
 ],
 "metadata": {
  "kernelspec": {
   "display_name": "Python 3 (ipykernel)",
   "language": "python",
   "name": "python3"
  },
  "language_info": {
   "codemirror_mode": {
    "name": "ipython",
    "version": 3
   },
   "file_extension": ".py",
   "mimetype": "text/x-python",
   "name": "python",
   "nbconvert_exporter": "python",
   "pygments_lexer": "ipython3",
   "version": "3.9.7"
  }
 },
 "nbformat": 4,
 "nbformat_minor": 5
}
